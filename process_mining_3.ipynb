{
 "cells": [
  {
   "attachments": {},
   "cell_type": "markdown",
   "metadata": {},
   "source": [
    "# Process Mining - Exercise"
   ]
  },
  {
   "attachments": {},
   "cell_type": "markdown",
   "metadata": {},
   "source": [
    "To solidify your expertise on Process Mining, please work on a real world data set and try to answer the following questions. You can either pick a event log in this project or find a different one through the following sources:\n",
    "- https://www.tf-pm.org/resources/logs\n",
    "- https://data.4tu.nl/search?search=event+logs"
   ]
  },
  {
   "attachments": {},
   "cell_type": "markdown",
   "metadata": {},
   "source": [
    "### Questions:\n",
    "\n",
    "1. **Basic Analysis**:\n",
    "   - What is the total number of events and traces in the event log?\n",
    "\n",
    "2. **Duration Analysis**:\n",
    "   - What is the average duration of a case from start to finish?\n",
    "\n",
    "3. **Variants Analysis**:\n",
    "   - Identify and rank the top 5 most common trace variants. What percentage of the entire log do they cover?\n",
    "\n",
    "4. **Object Relationships**:\n",
    "   - Identify and visualize the relationships between different object types in your event log. Which objects interact the most frequently, and which interactions are rare?\n",
    "\n",
    "5. **Activities**:\n",
    "   - Which activity appears the most in the event log, and which one is the least frequent?\n",
    "\n",
    "6. **Resources Analysis**:\n",
    "   - Which resource (e.g., person, machine) was involved in the most number of activities?\n",
    "\n",
    "7. **Object Lifecycles**:\n",
    "   - For each primary object type in your dataset, can you model and visualize its lifecycle? What are the most common states or phases it goes through, and in what sequence?\n",
    "\n",
    "8. **Throughput Analysis**:\n",
    "   - During which time period (e.g., month, week) did the process have the highest throughput?\n",
    "\n",
    "9. **Filtering**:\n",
    "   - Can you filter out the traces that contain a specific activity and then analyze the most frequent origin and destination activities for those traces?\n",
    "\n",
    "10. **Multi-Object Processes**:\n",
    "   - Try to discover a process model that captures the behavior of at least two object types concurrently. How do these objects influence each other's behavior within the process?\n",
    "\n",
    "11. **Concurrency**:\n",
    "   - Which two activities most frequently occur concurrently or overlap in time?\n",
    "\n",
    "12. **Object Interaction Patterns**:\n",
    "   - Are there recurring patterns of interaction between different object types? For instance, does one object type often trigger a specific event or state change in another object type?\n",
    "\n",
    "13. **Decision Points**:\n",
    "   - Identify decision points in the process. What choices exist at these decision points, and what is the distribution of paths taken?\n",
    "\n",
    "14. **Object-centric Conformance**:\n",
    "   - After modeling the object-centric process, replay your event log considering the interactions between different object types. Which interactions or sequences of interactions are non-conforming or rare in comparison to the model?\n",
    "\n",
    "15. **Trace Attributes**:\n",
    "   - Can you categorize traces based on their attributes (e.g., case outcome, case duration) and compare the distribution of activities between these categories?\n",
    "\n",
    "16. **Bottleneck Analysis**:\n",
    "   - Identify potential bottlenecks in the process. Which activities have the longest waiting times?\n",
    "\n",
    "17. **Path Analysis**:\n",
    "   - What is the most common path taken after Activity A? What about before Activity B?\n",
    "\n",
    "18. **Predictive Modeling**:\n",
    "   - Using the available data attributes, can you predict the outcome of a trace (e.g., whether it will be completed on time) based on its initial events?\n",
    "\n",
    "19. **Simulation**:\n",
    "   - Based on the discovered model and the event log, can you simulate the process for the next month under different conditions (e.g., double the cases, half the resources)? How do these conditions affect the process's performance?\n",
    "\n",
    "20. **Model Comparison**:\n",
    "   - Given a subset of the event log, discover a model and compare its fitness and precision to the model discovered from the full event log.\n"
   ]
  }
 ],
 "metadata": {
  "language_info": {
   "name": "python"
  },
  "orig_nbformat": 4
 },
 "nbformat": 4,
 "nbformat_minor": 2
}
